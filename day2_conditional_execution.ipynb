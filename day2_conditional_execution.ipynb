{
  "nbformat": 4,
  "nbformat_minor": 0,
  "metadata": {
    "colab": {
      "provenance": [],
      "authorship_tag": "ABX9TyMKZGmTnU72ibq5ut1yoIRG",
      "include_colab_link": true
    },
    "kernelspec": {
      "name": "python3",
      "display_name": "Python 3"
    },
    "language_info": {
      "name": "python"
    }
  },
  "cells": [
    {
      "cell_type": "markdown",
      "metadata": {
        "id": "view-in-github",
        "colab_type": "text"
      },
      "source": [
        "<a href=\"https://colab.research.google.com/github/danaemolinafeyt-web/python---basics/blob/main/day2_conditional_execution.ipynb\" target=\"_parent\"><img src=\"https://colab.research.google.com/assets/colab-badge.svg\" alt=\"Open In Colab\"/></a>"
      ]
    },
    {
      "cell_type": "markdown",
      "source": [
        "# **3.1 Boolean expressions**\n",
        "\n",
        "\n",
        "*   A boolean expression is an expression that is either tru or false.\n",
        "*   The following examples use the operator ==, which compares two operands and produces True if they are equal and False otherwise.\n",
        "\n"
      ],
      "metadata": {
        "id": "9QmxVxJCFeaC"
      }
    },
    {
      "cell_type": "code",
      "source": [
        "5 == 5\n"
      ],
      "metadata": {
        "colab": {
          "base_uri": "https://localhost:8080/"
        },
        "id": "hvcmYgCcFzgA",
        "outputId": "ffb60939-ff95-428c-f815-bd6737bc6d23"
      },
      "execution_count": 3,
      "outputs": [
        {
          "output_type": "execute_result",
          "data": {
            "text/plain": [
              "True"
            ]
          },
          "metadata": {},
          "execution_count": 3
        }
      ]
    },
    {
      "cell_type": "code",
      "source": [
        "5 == 6"
      ],
      "metadata": {
        "colab": {
          "base_uri": "https://localhost:8080/"
        },
        "id": "D63nt2TDF6XV",
        "outputId": "95ecc40d-6e71-4215-d36f-1c2bc2ab9c37"
      },
      "execution_count": 4,
      "outputs": [
        {
          "output_type": "execute_result",
          "data": {
            "text/plain": [
              "False"
            ]
          },
          "metadata": {},
          "execution_count": 4
        }
      ]
    },
    {
      "cell_type": "code",
      "source": [
        "# True and False are special values that belong to the class bool; they are not strings:\n",
        "\n",
        "type(True)\n",
        "type(False)"
      ],
      "metadata": {
        "colab": {
          "base_uri": "https://localhost:8080/"
        },
        "id": "h6t7J0grF73a",
        "outputId": "7b8ca6ff-1f12-4272-9956-68c96a2e250d"
      },
      "execution_count": 7,
      "outputs": [
        {
          "output_type": "execute_result",
          "data": {
            "text/plain": [
              "bool"
            ]
          },
          "metadata": {},
          "execution_count": 7
        }
      ]
    },
    {
      "cell_type": "markdown",
      "source": [
        "***The == operator is one of the comparison operators; the others are:***"
      ],
      "metadata": {
        "id": "4emQB7IyGMnz"
      }
    },
    {
      "cell_type": "code",
      "source": [
        "x != y    # x is not equal to y\n",
        "\n",
        "x > y     # x is greater than y\n",
        "\n",
        "x < y     # x is less than y\n",
        "\n",
        "x >= y    # x is greater than or equal to y\n",
        "\n",
        "x <= y    # x is less than or equal to y"
      ],
      "metadata": {
        "id": "OMAJI7h-GWf0"
      },
      "execution_count": null,
      "outputs": []
    },
    {
      "cell_type": "markdown",
      "source": [
        "# **3.2 Logical operators**\n",
        "\n",
        "\n",
        "*   There are three logical operators; and, or, and not. The semantics (meaning) of these operators is similar to their meaning in english.\n",
        "*   For example,\n",
        "\n",
        "x > 0 and x < 10 is true if x is greater than 0 and less than 10.\n",
        "\n",
        "n % 2 == 0 or n % 3 == 0 is true if either of the conditions is true, that is if the number is divisible by 2 or 3.\n",
        "\n",
        "Finally, the not operator negates a boolean expression, so not (x >y) is true if x > y is false.\n",
        "\n",
        "\n",
        "\n",
        "\n",
        "\n"
      ],
      "metadata": {
        "id": "lcck_n1YGxIA"
      }
    },
    {
      "cell_type": "code",
      "source": [
        "x = 1\n",
        "y = 2\n",
        "x > y     # This is False due to 1 not being > 2.\n"
      ],
      "metadata": {
        "colab": {
          "base_uri": "https://localhost:8080/"
        },
        "id": "kZoV3Nw6G06N",
        "outputId": "95688263-65fd-4962-fbfa-a0796a23dd88"
      },
      "execution_count": 10,
      "outputs": [
        {
          "output_type": "execute_result",
          "data": {
            "text/plain": [
              "False"
            ]
          },
          "metadata": {},
          "execution_count": 10
        }
      ]
    },
    {
      "cell_type": "code",
      "source": [
        "not (x > y)   # This is True due to it being true or (not) that 1 is > 2"
      ],
      "metadata": {
        "colab": {
          "base_uri": "https://localhost:8080/"
        },
        "id": "mCfAcnBMH_Pb",
        "outputId": "e889850d-ced5-43e3-c24a-99d98fdc1f47"
      },
      "execution_count": 11,
      "outputs": [
        {
          "output_type": "execute_result",
          "data": {
            "text/plain": [
              "True"
            ]
          },
          "metadata": {},
          "execution_count": 11
        }
      ]
    },
    {
      "cell_type": "markdown",
      "source": [
        "# **3.3 Conditional execution**\n",
        "\n",
        "\n",
        "\n",
        "*   In order to write useful programs, we almost always neet ability to check conditions and change the behaviour of the program correctly.\n",
        "*   Conditional statements give us the ability. The simplest form is the if statement:\n",
        "\n",
        "if x > 0 :\n",
        "    \n",
        "    print(\"x is positive\")\n",
        "\n",
        "\n",
        "\n",
        "*   The boolean expression after the if statement is called the condition. We end the if statement with a colon (:) and the line(s) after the if statement are indented.\n",
        "*   If the logical condition is true, then the indented statement gets executed. If the logical condition is false, the indented statement is skipped.\n",
        "\n",
        "\n",
        "*   if statements have the same structure as a function definition for loop. The statement consist of a header line that ends with the colon character (:) followed by an indented block. Statements like this are called compound statements because they stretch across more than one line.\n",
        "\n",
        "if x > y:\n",
        "    print(x)\n",
        "    print(y)\n",
        "\n",
        "\n",
        "\n",
        "\n",
        "\n",
        "\n"
      ],
      "metadata": {
        "id": "yjwwPCOeISKp"
      }
    },
    {
      "cell_type": "code",
      "source": [
        "x = 3\n",
        "if x < 10:\n",
        "  print(\"small\")"
      ],
      "metadata": {
        "colab": {
          "base_uri": "https://localhost:8080/"
        },
        "id": "s5KWWTKlKBPQ",
        "outputId": "3c25ab30-c9d0-43a5-f646-993ca25f9f4d"
      },
      "execution_count": 12,
      "outputs": [
        {
          "output_type": "stream",
          "name": "stdout",
          "text": [
            "small\n"
          ]
        }
      ]
    },
    {
      "cell_type": "markdown",
      "source": [
        "# **3.4 Alternative execution**\n",
        "\n",
        "\n",
        "\n",
        "*   Second form of the if statement is alternative execution, in which there are two possibilities and the condition determined which one gets executed. The syntax looks like this\n",
        "\n",
        "if x % 2 == 0:\n",
        "    \n",
        "    print(\"x is even\")\n",
        "\n",
        "else:\n",
        "\n",
        "    print(\"x is odd\")\n",
        "\n",
        "\n",
        "*   if the remaineder when x is divided by 2 is 0, then we know that x is even, and the programs display a message to that effect. If the condition is false, the second set of statements is executed.\n",
        "\n",
        "\n",
        "*   Since the condition must either be true or false, exactly one of the alternatives will be executed. The alternatives are called brances, because they are brances in the flow of execution.\n",
        "\n",
        "\n",
        "\n",
        "\n",
        "\n",
        "\n",
        "\n"
      ],
      "metadata": {
        "id": "qs90xSF_KQ4w"
      }
    },
    {
      "cell_type": "code",
      "source": [
        "if x % 2 == 0:\n",
        "  print(\"x is even\")\n",
        "\n",
        "else:\n",
        "  print(\"x is odd\")"
      ],
      "metadata": {
        "colab": {
          "base_uri": "https://localhost:8080/"
        },
        "id": "4pMeWCZELLrR",
        "outputId": "365e3571-6161-429d-880f-c1fd070e4a92"
      },
      "execution_count": 13,
      "outputs": [
        {
          "output_type": "stream",
          "name": "stdout",
          "text": [
            "x is odd\n"
          ]
        }
      ]
    },
    {
      "cell_type": "markdown",
      "source": [
        "# **3.5 Chained conditionals**\n",
        "\n",
        "\n",
        "*   Sometimes there are more than two possiblities and we need more than two branches. One way to express a computaion like that is a chained conditional.\n",
        "\n",
        "\n"
      ],
      "metadata": {
        "id": "majTMq89LYpt"
      }
    },
    {
      "cell_type": "code",
      "source": [
        "if x < y:\n",
        "  print(\"x is less than y\")\n",
        "\n",
        "elif x > y:\n",
        "  print(\"x is greater than y\")  # elif is an abbreviation of \"else if.\"\n",
        "                                # there is no limit to the number of elif statements.\n",
        "else:\n",
        "  print(\"x and y are equal\")    # else clause has to be at the end, but there doesnt need to be one."
      ],
      "metadata": {
        "colab": {
          "base_uri": "https://localhost:8080/"
        },
        "id": "Dqq7osQ0Lsx-",
        "outputId": "331b4980-f37f-483f-89a8-f3f1c4366b63"
      },
      "execution_count": 14,
      "outputs": [
        {
          "output_type": "stream",
          "name": "stdout",
          "text": [
            "x is greater than y\n"
          ]
        }
      ]
    },
    {
      "cell_type": "code",
      "source": [
        "if choice == \"a\" :\n",
        "  print(\"Bad guess\")\n",
        "\n",
        "elif choice == \"b\" :\n",
        "  print(\"Good guess\")\n",
        "\n",
        "elif choice == \"c\" :\n",
        "  print(\"Close, but not correct\")\n",
        "\n",
        "# Each condition is checked in order. If the first is fale, the next is checked, and so on.\n",
        "# If one of them is true the correspoinding brance executes, and the statement ends.\n",
        ""
      ],
      "metadata": {
        "colab": {
          "base_uri": "https://localhost:8080/",
          "height": 201
        },
        "collapsed": true,
        "id": "7g2E1JzeMXCM",
        "outputId": "d719600f-261b-4166-f840-db23322d2a73"
      },
      "execution_count": 15,
      "outputs": [
        {
          "output_type": "error",
          "ename": "NameError",
          "evalue": "name 'choice' is not defined",
          "traceback": [
            "\u001b[0;31m---------------------------------------------------------------------------\u001b[0m",
            "\u001b[0;31mNameError\u001b[0m                                 Traceback (most recent call last)",
            "\u001b[0;32m/tmp/ipython-input-2181225715.py\u001b[0m in \u001b[0;36m<cell line: 0>\u001b[0;34m()\u001b[0m\n\u001b[0;32m----> 1\u001b[0;31m \u001b[0;32mif\u001b[0m \u001b[0mchoice\u001b[0m \u001b[0;34m==\u001b[0m \u001b[0;34m\"a\"\u001b[0m \u001b[0;34m:\u001b[0m\u001b[0;34m\u001b[0m\u001b[0;34m\u001b[0m\u001b[0m\n\u001b[0m\u001b[1;32m      2\u001b[0m   \u001b[0mprint\u001b[0m\u001b[0;34m(\u001b[0m\u001b[0;34m\"Bad guess\"\u001b[0m\u001b[0;34m)\u001b[0m\u001b[0;34m\u001b[0m\u001b[0;34m\u001b[0m\u001b[0m\n\u001b[1;32m      3\u001b[0m \u001b[0;34m\u001b[0m\u001b[0m\n\u001b[1;32m      4\u001b[0m \u001b[0;32melif\u001b[0m \u001b[0mchoice\u001b[0m \u001b[0;34m==\u001b[0m \u001b[0;34m\"b\"\u001b[0m \u001b[0;34m:\u001b[0m\u001b[0;34m\u001b[0m\u001b[0;34m\u001b[0m\u001b[0m\n\u001b[1;32m      5\u001b[0m   \u001b[0mprint\u001b[0m\u001b[0;34m(\u001b[0m\u001b[0;34m\"Good guess\"\u001b[0m\u001b[0;34m)\u001b[0m\u001b[0;34m\u001b[0m\u001b[0;34m\u001b[0m\u001b[0m\n",
            "\u001b[0;31mNameError\u001b[0m: name 'choice' is not defined"
          ]
        }
      ]
    },
    {
      "cell_type": "markdown",
      "source": [
        "# **3.6 Nested conditionals**\n",
        "\n",
        "\n",
        "*   One conditional can also be nested within another. We could have written the three - branch example like this.\n",
        "\n",
        "if x == y :\n",
        "\n",
        "    print(\"x and y are equal\")\n",
        "\n",
        "else:\n",
        "    \n",
        "    if x < y :\n",
        "        print(\"x is less than y\")\n",
        "    \n",
        "    else:\n",
        "        print(\"x is greater than y\")\n",
        "\n",
        "\n",
        "*   The other conditional contains two branches. The first branch contains a simple statement. The second branch contains another if statement, which has two branches of its own. Those two brances are both simple statements, although they could have been conditional statements as well.\n",
        "\n"
      ],
      "metadata": {
        "id": "T7GbuNVZM88K"
      }
    },
    {
      "cell_type": "code",
      "source": [
        "# Although the indentation of the statements ameks the structure apparent, nested conditionals become difficult to read very quickly.\n",
        "# In general it is a good idea to avoid them when you can.\n",
        "# Logical operators often provide a way to simplify nested conditional statements.\n",
        "\n",
        "# For example, we can rewriute the following code using a single conditional:\n",
        "\n",
        "if 0 < x:\n",
        "  if x < 10:\n",
        "    print(\"x is a positive single-digit number.\")"
      ],
      "metadata": {
        "colab": {
          "base_uri": "https://localhost:8080/"
        },
        "id": "E3pEiE4bOSUP",
        "outputId": "f460b271-add7-439a-9b27-9fa629587226"
      },
      "execution_count": 17,
      "outputs": [
        {
          "output_type": "stream",
          "name": "stdout",
          "text": [
            "x is a positive single-digit number. \n"
          ]
        }
      ]
    },
    {
      "cell_type": "code",
      "source": [
        "# We can get the same effect as above with the and operator.\n",
        "\n",
        "if 0 < x and x < 10:\n",
        "  print(\"x is a positive single-digit number.\")"
      ],
      "metadata": {
        "colab": {
          "base_uri": "https://localhost:8080/"
        },
        "id": "DnzEA8SEO6lC",
        "outputId": "caa9bb08-3cd4-47c1-9a33-94610c8693e9"
      },
      "execution_count": 18,
      "outputs": [
        {
          "output_type": "stream",
          "name": "stdout",
          "text": [
            "x is a positive single-digit number.\n"
          ]
        }
      ]
    },
    {
      "cell_type": "markdown",
      "source": [
        "# **3.7 Catching exceptions using try and except**\n",
        "\n",
        "\n",
        "\n"
      ],
      "metadata": {
        "id": "wPsCOp3VPJUS"
      }
    },
    {
      "cell_type": "code",
      "source": [
        "# Simple program to convert a Fahrenheit tempt to a Celsius temp.\n",
        "\n",
        "inp = input(\"Enter Fahrenheit Temperature: \")\n",
        "fahr = float(inp)\n",
        "cel = (fahr - 32.0) * 5.0 / 9.0\n",
        "print(f'{cel:.2f}')"
      ],
      "metadata": {
        "colab": {
          "base_uri": "https://localhost:8080/"
        },
        "id": "BjcaZh9PPdyL",
        "outputId": "b38214e7-3444-408b-8404-8d47f9eaffab"
      },
      "execution_count": 21,
      "outputs": [
        {
          "output_type": "stream",
          "name": "stdout",
          "text": [
            "Enter Fahrenheit Temperature: 101\n",
            "38.33\n"
          ]
        }
      ]
    },
    {
      "cell_type": "code",
      "source": [
        "# you can think of the try and exvept feature in Python as an \"insurance policy\" on a sequence of statements.\n",
        "\n",
        "inp = input(\"Enter Fahrenheit Temperature: \")\n",
        "try:\n",
        "  fahr = float(inp)\n",
        "  cel = (fahr - 32.0) * 5.0 / 9.0\n",
        "  print(f\"{cel:.2f}\")\n",
        "except:                     # If i do not input the question above above try, and have python run try: then i will get the except block.\n",
        "  print(\"Please enter a number\")"
      ],
      "metadata": {
        "colab": {
          "base_uri": "https://localhost:8080/"
        },
        "id": "V1M8eOgUQLhh",
        "outputId": "2f24c47b-b60e-450f-9905-52766d190d8a"
      },
      "execution_count": 24,
      "outputs": [
        {
          "output_type": "stream",
          "name": "stdout",
          "text": [
            "Enter Fahrenheit Temperature: 101\n",
            "38.33\n"
          ]
        }
      ]
    },
    {
      "cell_type": "markdown",
      "source": [
        "# **3.8 Short- Circuit evaluation of logical expressions**\n",
        "\n",
        "\n",
        "*   Python evaluates and and or expressions from left to right\n",
        "\n",
        "*   For and:\n",
        "\n",
        "if the first condition is false, python doesnt bother checking the second, because the whole thing will be false no matter what.\n",
        "\n",
        "\n",
        "*   For or:\n",
        "\n",
        "If the first condition is true, python doesnt bother checkin gthe second, because the whole thing will be true no matter what.\n",
        "\n",
        "\n",
        "\n",
        "\n"
      ],
      "metadata": {
        "id": "CMO6hvCtQ_8s"
      }
    },
    {
      "cell_type": "code",
      "source": [
        "# Example with and\n",
        "\n",
        "x = 1\n",
        "y = 0\n",
        "\n",
        "# Expression:\n",
        "result = x >= 2 and (x / y) > 2\n",
        "\n",
        "# Evalute x >= 2 it is not so False.\n",
        "# because it is False and python knows..\n",
        "# Python never tries (x / y) > 2\n",
        "# that's important becuase (x / y) would have cause a zerodivisionerror\n"
      ],
      "metadata": {
        "id": "9aT9-90xSVE2"
      },
      "execution_count": 26,
      "outputs": []
    },
    {
      "cell_type": "code",
      "source": [
        "# Example with or\n",
        "\n",
        "x = 5\n",
        "y = 0\n",
        "\n",
        "# Expression\n",
        "result = x > 2 or (x / y) >2"
      ],
      "metadata": {
        "id": "6G8YShcrTSzL"
      },
      "execution_count": 27,
      "outputs": []
    },
    {
      "cell_type": "markdown",
      "source": [
        "3.8 Short Circuit\n",
        "\n",
        "Why it matters:\n",
        "\n",
        "\n",
        "*   Efficiency -> Python avoids unnecessary work\n",
        "*   Safety -> You can guard against dangerous operations.\n",
        "\n"
      ],
      "metadata": {
        "id": "NDMlSiVeTmUj"
      }
    },
    {
      "cell_type": "markdown",
      "source": [],
      "metadata": {
        "id": "DiOT19rhL_zt"
      }
    }
  ]
}